{
  "cells": [
    {
      "cell_type": "markdown",
      "metadata": {
        "id": "view-in-github",
        "colab_type": "text"
      },
      "source": [
        "<a href=\"https://colab.research.google.com/github/Praz98/TASK-4-pd.data-frame/blob/main/task_4_of_Assessment2B.ipynb\" target=\"_parent\"><img src=\"https://colab.research.google.com/assets/colab-badge.svg\" alt=\"Open In Colab\"/></a>"
      ]
    },
    {
      "cell_type": "markdown",
      "metadata": {
        "id": "nrUE-Psl1y-w"
      },
      "source": [
        "###### Assessment"
      ]
    },
    {
      "cell_type": "markdown",
      "metadata": {
        "id": "w0err8zW1y-z"
      },
      "source": [
        "###### I am going to provide two .csv files , you are supposed to work on them and have to provide solutions to the following problems"
      ]
    },
    {
      "cell_type": "code",
      "source": [
        "from google.colab import drive\n",
        "drive.mount('/content/drive')"
      ],
      "metadata": {
        "colab": {
          "base_uri": "https://localhost:8080/"
        },
        "id": "iDH8tJhJ2CWq",
        "outputId": "4cdd081c-433d-44bb-e6aa-40d48b6fd9db"
      },
      "execution_count": 78,
      "outputs": [
        {
          "output_type": "stream",
          "name": "stdout",
          "text": [
            "Drive already mounted at /content/drive; to attempt to forcibly remount, call drive.mount(\"/content/drive\", force_remount=True).\n"
          ]
        }
      ]
    },
    {
      "cell_type": "markdown",
      "metadata": {
        "id": "RL0Gxlxy1y-0"
      },
      "source": [
        "###### import necessary libraries"
      ]
    },
    {
      "cell_type": "code",
      "execution_count": 79,
      "metadata": {
        "id": "p_gsp9fB1y-1"
      },
      "outputs": [],
      "source": [
        "import numpy as np\n",
        "import pandas as pd\n"
      ]
    },
    {
      "cell_type": "code",
      "source": [
        "#let us first read the csv file for understanding better college_1.csv\n",
        "df=pd.read_csv('/content/drive/MyDrive/college_1.csv')   # head helps us read first five indexing data /so as tail for last data /random for random data in between\n",
        "print(df)"
      ],
      "metadata": {
        "colab": {
          "base_uri": "https://localhost:8080/"
        },
        "id": "xxJKASKV4gmT",
        "outputId": "cc43632e-9c38-4c8f-8b02-e3cd03fc5d67"
      },
      "execution_count": 80,
      "outputs": [
        {
          "output_type": "stream",
          "name": "stdout",
          "text": [
            "              Name  python  mysql  Previous Geekions  CodeKata Score  \\\n",
            "0        A.Dharani    82.0   20.0              24500           24500   \n",
            "1      V.JEEVITHA     82.0   20.0              21740           21740   \n",
            "2      HEMAVATHI.R   100.0  100.0              19680           19680   \n",
            "3      Mugunthan S   100.0   47.0              10610           10610   \n",
            "4      Sathammai.S   100.0    8.0               8980            8980   \n",
            "..             ...     ...    ...                ...             ...   \n",
            "79    KarthikeyanS    45.0    0.0                  0               0   \n",
            "80        BARATH.P    29.0    0.0                  0               0   \n",
            "81   N.Ajith kumar    82.0    0.0                  0               0   \n",
            "82    mohamed nabi     0.0    0.0                  0               0   \n",
            "83  yaser ahamed.A     0.0   27.0                  0               0   \n",
            "\n",
            "                                Department  Rising  \n",
            "0         Computer Science and Engineering       0  \n",
            "1         Computer Science and Engineering       0  \n",
            "2         Computer Science and Engineering       0  \n",
            "3         Computer Science and Engineering       0  \n",
            "4         Computer Science and Engineering       0  \n",
            "..                                     ...     ...  \n",
            "79  Electronics and Electrical Engineering       0  \n",
            "80  Electronics and Electrical Engineering       0  \n",
            "81  Electronics and Electrical Engineering       0  \n",
            "82  Electronics and Electrical Engineering       0  \n",
            "83  Electronics and Electrical Engineering       0  \n",
            "\n",
            "[84 rows x 7 columns]\n"
          ]
        }
      ]
    },
    {
      "cell_type": "code",
      "source": [
        "df.info()#for merging you need to understand what coloumns you carry in your table \n"
      ],
      "metadata": {
        "colab": {
          "base_uri": "https://localhost:8080/"
        },
        "id": "gY68KouK7hJH",
        "outputId": "fe212383-4c72-4345-d0a9-d0b37ce01fbc"
      },
      "execution_count": 81,
      "outputs": [
        {
          "output_type": "stream",
          "name": "stdout",
          "text": [
            "<class 'pandas.core.frame.DataFrame'>\n",
            "RangeIndex: 84 entries, 0 to 83\n",
            "Data columns (total 7 columns):\n",
            " #   Column             Non-Null Count  Dtype  \n",
            "---  ------             --------------  -----  \n",
            " 0   Name               84 non-null     object \n",
            " 1   python             84 non-null     float64\n",
            " 2   mysql              84 non-null     float64\n",
            " 3   Previous Geekions  84 non-null     int64  \n",
            " 4   CodeKata Score     84 non-null     int64  \n",
            " 5   Department         84 non-null     object \n",
            " 6   Rising             84 non-null     int64  \n",
            "dtypes: float64(2), int64(3), object(2)\n",
            "memory usage: 4.7+ KB\n"
          ]
        }
      ]
    },
    {
      "cell_type": "code",
      "source": [
        "#let us first read the csv file for understanding better college_2.csv\n",
        "df1=pd.read_csv('/content/drive/MyDrive/college_2.csv')  #head helps us read first five indexing data\n",
        "print(df1)"
      ],
      "metadata": {
        "colab": {
          "base_uri": "https://localhost:8080/"
        },
        "id": "CeUi-mmH4GaQ",
        "outputId": "064e37ea-2a48-46c4-a861-3a0bd0f8a970"
      },
      "execution_count": 82,
      "outputs": [
        {
          "output_type": "stream",
          "name": "stdout",
          "text": [
            "                      Name  python  python_en  mysql  computational_thinking  \\\n",
            "0            ASHOK KUMAR K     100          0     31                       9   \n",
            "1                  Chandru       0         20      0                       0   \n",
            "2        Ganesh Ramkumar R      -1         55     24                       6   \n",
            "3          Bodipudi Harini      -1          0     35                      -1   \n",
            "4                VIINU V P      -1        100     24                      -1   \n",
            "5               Poojitha Y       0         78     35                       0   \n",
            "6   Gowtham Chandrasekaran      -1          0      0                       3   \n",
            "7                Gowtham R      -1         60      4                       6   \n",
            "8                 shifak N      58          0      0                       0   \n",
            "9                  Balaji       -1        100     20                       0   \n",
            "10                Rushitha      -1         15     62                       9   \n",
            "11    Balaraman Muthupandi      -1          9      0                       0   \n",
            "12                JPradhap     100          0      0                       0   \n",
            "13           SRIRAMKUMAR B      -1          0      0                       0   \n",
            "14               Praneetha      -1         23    100                      -1   \n",
            "15             Rahul Raj K      -1          0      0                       0   \n",
            "16                 Guhan S      -1         72     35                      39   \n",
            "17            Suryarajan S      -1         63     31                       0   \n",
            "18          Narasimhan Y L      -1         -1      0                       0   \n",
            "19            Leelakrishna      -1          6      4                       0   \n",
            "20          PremsagarReddy      -1         20      0                       0   \n",
            "21               pradeeban      16         20     24                       0   \n",
            "22             santhoshini      -1         43      0                       0   \n",
            "23              MUKESH S M      -1         46      0                       0   \n",
            "24           P.GOVARDHANAN      -1         40      0                      -1   \n",
            "25            SHAIK DANISH      -1         43      0                       0   \n",
            "26               sridhar.s      -1         52      0                       0   \n",
            "27       Vimalesh Fernando      -1          0      0                       0   \n",
            "28           M.Karthikeyan      -1          0      4                       6   \n",
            "29               Abishak s      -1         55     35                       6   \n",
            "30           praveen raj j      24         -1      0                       0   \n",
            "31              AMARNATH D      -1         52     12                      -1   \n",
            "32                    bala      32         49      0                      -1   \n",
            "33                    XY Z      -1         20     -1                      -1   \n",
            "34               Hariharan      -1         -1     -1                       0   \n",
            "\n",
            "    Previous Geekions  CodeKata Score  \\\n",
            "0               19400           19400   \n",
            "1               14150           14490   \n",
            "2                8790           10790   \n",
            "3               10040           10040   \n",
            "4                9150            9150   \n",
            "5                7210            8970   \n",
            "6                7250            8950   \n",
            "7                8650            8650   \n",
            "8                5180            8320   \n",
            "9                6170            8160   \n",
            "10               7470            8090   \n",
            "11               7670            8050   \n",
            "12               7340            8030   \n",
            "13               6400            7940   \n",
            "14               7170            7730   \n",
            "15               6280            7640   \n",
            "16               7310            7630   \n",
            "17               6710            7550   \n",
            "18               4800            6800   \n",
            "19               5300            6640   \n",
            "20               5290            6290   \n",
            "21               6060            6090   \n",
            "22               3910            5740   \n",
            "23               5200            5200   \n",
            "24               5050            5050   \n",
            "25               4050            4820   \n",
            "26               3860            4440   \n",
            "27               4170            4170   \n",
            "28               4020            4020   \n",
            "29               3220            3220   \n",
            "30               2380            2380   \n",
            "31               1890            1890   \n",
            "32               1720            1720   \n",
            "33                  0               0   \n",
            "34                  0               0   \n",
            "\n",
            "                                   Department  Rising  \n",
            "0      Electronics and Electrical Engineering       0  \n",
            "1            Computer Science and Engineering     340  \n",
            "2            Computer Science and Engineering    2000  \n",
            "3   Electronics and Communication Engineering       0  \n",
            "4      Electronics and Electrical Engineering       0  \n",
            "5            Computer Science and Engineering    1760  \n",
            "6            Computer Science and Engineering    1700  \n",
            "7   Electronics and Communication Engineering       0  \n",
            "8      Electronics and Electrical Engineering    3140  \n",
            "9      Electronics and Electrical Engineering    1990  \n",
            "10           Computer Science and Engineering     620  \n",
            "11           Computer Science and Engineering     380  \n",
            "12     Electronics and Electrical Engineering     690  \n",
            "13           Computer Science and Engineering    1540  \n",
            "14  Electronics and Communication Engineering     560  \n",
            "15           Computer Science and Engineering    1360  \n",
            "16  Electronics and Communication Engineering     320  \n",
            "17           Computer Science and Engineering     840  \n",
            "18           Computer Science and Engineering    2000  \n",
            "19           Computer Science and Engineering    1340  \n",
            "20           Computer Science and Engineering    1000  \n",
            "21           Computer Science and Engineering      30  \n",
            "22           Computer Science and Engineering    1830  \n",
            "23           Computer Science and Engineering       0  \n",
            "24  Electronics and Communication Engineering       0  \n",
            "25           Computer Science and Engineering     770  \n",
            "26           Computer Science and Engineering     580  \n",
            "27           Computer Science and Engineering       0  \n",
            "28           Computer Science and Engineering       0  \n",
            "29  Electronics and Communication Engineering       0  \n",
            "30           Computer Science and Engineering       0  \n",
            "31  Electronics and Communication Engineering       0  \n",
            "32  Electronics and Communication Engineering       0  \n",
            "33           Computer Science and Engineering       0  \n",
            "34           Computer Science and Engineering       0  \n"
          ]
        }
      ]
    },
    {
      "cell_type": "code",
      "source": [
        "df1.info()#for merging you need to understand what coloumns you carry in your table\n"
      ],
      "metadata": {
        "colab": {
          "base_uri": "https://localhost:8080/"
        },
        "id": "DWaLlSu67zqh",
        "outputId": "5d79d699-0871-49de-c1fe-5db868a37c78"
      },
      "execution_count": 83,
      "outputs": [
        {
          "output_type": "stream",
          "name": "stdout",
          "text": [
            "<class 'pandas.core.frame.DataFrame'>\n",
            "RangeIndex: 35 entries, 0 to 34\n",
            "Data columns (total 9 columns):\n",
            " #   Column                  Non-Null Count  Dtype \n",
            "---  ------                  --------------  ----- \n",
            " 0   Name                    35 non-null     object\n",
            " 1   python                  35 non-null     int64 \n",
            " 2   python_en               35 non-null     int64 \n",
            " 3   mysql                   35 non-null     int64 \n",
            " 4   computational_thinking  35 non-null     int64 \n",
            " 5   Previous Geekions       35 non-null     int64 \n",
            " 6   CodeKata Score          35 non-null     int64 \n",
            " 7   Department              35 non-null     object\n",
            " 8   Rising                  35 non-null     int64 \n",
            "dtypes: int64(7), object(2)\n",
            "memory usage: 2.6+ KB\n"
          ]
        }
      ]
    },
    {
      "cell_type": "markdown",
      "metadata": {
        "id": "NJSFhUf21y-3"
      },
      "source": [
        "###### merge those two csv files (after getting as dataframes, get them as a single dataframe)"
      ]
    },
    {
      "cell_type": "code",
      "source": [
        "res = pd.concat([df, df1] , axis=0,ignore_index=True)\n"
      ],
      "metadata": {
        "id": "W490O5A75QmP"
      },
      "execution_count": 84,
      "outputs": []
    },
    {
      "cell_type": "code",
      "source": [
        "res"
      ],
      "metadata": {
        "colab": {
          "base_uri": "https://localhost:8080/",
          "height": 424
        },
        "id": "PKS2e0VD5twb",
        "outputId": "48e10056-5afd-4632-d56c-348b91a1f91a"
      },
      "execution_count": 85,
      "outputs": [
        {
          "output_type": "execute_result",
          "data": {
            "text/plain": [
              "              Name  python  mysql  Previous Geekions  CodeKata Score  \\\n",
              "0        A.Dharani    82.0   20.0              24500           24500   \n",
              "1      V.JEEVITHA     82.0   20.0              21740           21740   \n",
              "2      HEMAVATHI.R   100.0  100.0              19680           19680   \n",
              "3      Mugunthan S   100.0   47.0              10610           10610   \n",
              "4      Sathammai.S   100.0    8.0               8980            8980   \n",
              "..             ...     ...    ...                ...             ...   \n",
              "114  praveen raj j    24.0    0.0               2380            2380   \n",
              "115     AMARNATH D    -1.0   12.0               1890            1890   \n",
              "116           bala    32.0    0.0               1720            1720   \n",
              "117           XY Z    -1.0   -1.0                  0               0   \n",
              "118      Hariharan    -1.0   -1.0                  0               0   \n",
              "\n",
              "                                    Department  Rising  python_en  \\\n",
              "0             Computer Science and Engineering       0        NaN   \n",
              "1             Computer Science and Engineering       0        NaN   \n",
              "2             Computer Science and Engineering       0        NaN   \n",
              "3             Computer Science and Engineering       0        NaN   \n",
              "4             Computer Science and Engineering       0        NaN   \n",
              "..                                         ...     ...        ...   \n",
              "114           Computer Science and Engineering       0       -1.0   \n",
              "115  Electronics and Communication Engineering       0       52.0   \n",
              "116  Electronics and Communication Engineering       0       49.0   \n",
              "117           Computer Science and Engineering       0       20.0   \n",
              "118           Computer Science and Engineering       0       -1.0   \n",
              "\n",
              "     computational_thinking  \n",
              "0                       NaN  \n",
              "1                       NaN  \n",
              "2                       NaN  \n",
              "3                       NaN  \n",
              "4                       NaN  \n",
              "..                      ...  \n",
              "114                     0.0  \n",
              "115                    -1.0  \n",
              "116                    -1.0  \n",
              "117                    -1.0  \n",
              "118                     0.0  \n",
              "\n",
              "[119 rows x 9 columns]"
            ],
            "text/html": [
              "\n",
              "  <div id=\"df-a706339b-ed1c-456e-8fec-643ef94f99e3\">\n",
              "    <div class=\"colab-df-container\">\n",
              "      <div>\n",
              "<style scoped>\n",
              "    .dataframe tbody tr th:only-of-type {\n",
              "        vertical-align: middle;\n",
              "    }\n",
              "\n",
              "    .dataframe tbody tr th {\n",
              "        vertical-align: top;\n",
              "    }\n",
              "\n",
              "    .dataframe thead th {\n",
              "        text-align: right;\n",
              "    }\n",
              "</style>\n",
              "<table border=\"1\" class=\"dataframe\">\n",
              "  <thead>\n",
              "    <tr style=\"text-align: right;\">\n",
              "      <th></th>\n",
              "      <th>Name</th>\n",
              "      <th>python</th>\n",
              "      <th>mysql</th>\n",
              "      <th>Previous Geekions</th>\n",
              "      <th>CodeKata Score</th>\n",
              "      <th>Department</th>\n",
              "      <th>Rising</th>\n",
              "      <th>python_en</th>\n",
              "      <th>computational_thinking</th>\n",
              "    </tr>\n",
              "  </thead>\n",
              "  <tbody>\n",
              "    <tr>\n",
              "      <th>0</th>\n",
              "      <td>A.Dharani</td>\n",
              "      <td>82.0</td>\n",
              "      <td>20.0</td>\n",
              "      <td>24500</td>\n",
              "      <td>24500</td>\n",
              "      <td>Computer Science and Engineering</td>\n",
              "      <td>0</td>\n",
              "      <td>NaN</td>\n",
              "      <td>NaN</td>\n",
              "    </tr>\n",
              "    <tr>\n",
              "      <th>1</th>\n",
              "      <td>V.JEEVITHA</td>\n",
              "      <td>82.0</td>\n",
              "      <td>20.0</td>\n",
              "      <td>21740</td>\n",
              "      <td>21740</td>\n",
              "      <td>Computer Science and Engineering</td>\n",
              "      <td>0</td>\n",
              "      <td>NaN</td>\n",
              "      <td>NaN</td>\n",
              "    </tr>\n",
              "    <tr>\n",
              "      <th>2</th>\n",
              "      <td>HEMAVATHI.R</td>\n",
              "      <td>100.0</td>\n",
              "      <td>100.0</td>\n",
              "      <td>19680</td>\n",
              "      <td>19680</td>\n",
              "      <td>Computer Science and Engineering</td>\n",
              "      <td>0</td>\n",
              "      <td>NaN</td>\n",
              "      <td>NaN</td>\n",
              "    </tr>\n",
              "    <tr>\n",
              "      <th>3</th>\n",
              "      <td>Mugunthan S</td>\n",
              "      <td>100.0</td>\n",
              "      <td>47.0</td>\n",
              "      <td>10610</td>\n",
              "      <td>10610</td>\n",
              "      <td>Computer Science and Engineering</td>\n",
              "      <td>0</td>\n",
              "      <td>NaN</td>\n",
              "      <td>NaN</td>\n",
              "    </tr>\n",
              "    <tr>\n",
              "      <th>4</th>\n",
              "      <td>Sathammai.S</td>\n",
              "      <td>100.0</td>\n",
              "      <td>8.0</td>\n",
              "      <td>8980</td>\n",
              "      <td>8980</td>\n",
              "      <td>Computer Science and Engineering</td>\n",
              "      <td>0</td>\n",
              "      <td>NaN</td>\n",
              "      <td>NaN</td>\n",
              "    </tr>\n",
              "    <tr>\n",
              "      <th>...</th>\n",
              "      <td>...</td>\n",
              "      <td>...</td>\n",
              "      <td>...</td>\n",
              "      <td>...</td>\n",
              "      <td>...</td>\n",
              "      <td>...</td>\n",
              "      <td>...</td>\n",
              "      <td>...</td>\n",
              "      <td>...</td>\n",
              "    </tr>\n",
              "    <tr>\n",
              "      <th>114</th>\n",
              "      <td>praveen raj j</td>\n",
              "      <td>24.0</td>\n",
              "      <td>0.0</td>\n",
              "      <td>2380</td>\n",
              "      <td>2380</td>\n",
              "      <td>Computer Science and Engineering</td>\n",
              "      <td>0</td>\n",
              "      <td>-1.0</td>\n",
              "      <td>0.0</td>\n",
              "    </tr>\n",
              "    <tr>\n",
              "      <th>115</th>\n",
              "      <td>AMARNATH D</td>\n",
              "      <td>-1.0</td>\n",
              "      <td>12.0</td>\n",
              "      <td>1890</td>\n",
              "      <td>1890</td>\n",
              "      <td>Electronics and Communication Engineering</td>\n",
              "      <td>0</td>\n",
              "      <td>52.0</td>\n",
              "      <td>-1.0</td>\n",
              "    </tr>\n",
              "    <tr>\n",
              "      <th>116</th>\n",
              "      <td>bala</td>\n",
              "      <td>32.0</td>\n",
              "      <td>0.0</td>\n",
              "      <td>1720</td>\n",
              "      <td>1720</td>\n",
              "      <td>Electronics and Communication Engineering</td>\n",
              "      <td>0</td>\n",
              "      <td>49.0</td>\n",
              "      <td>-1.0</td>\n",
              "    </tr>\n",
              "    <tr>\n",
              "      <th>117</th>\n",
              "      <td>XY Z</td>\n",
              "      <td>-1.0</td>\n",
              "      <td>-1.0</td>\n",
              "      <td>0</td>\n",
              "      <td>0</td>\n",
              "      <td>Computer Science and Engineering</td>\n",
              "      <td>0</td>\n",
              "      <td>20.0</td>\n",
              "      <td>-1.0</td>\n",
              "    </tr>\n",
              "    <tr>\n",
              "      <th>118</th>\n",
              "      <td>Hariharan</td>\n",
              "      <td>-1.0</td>\n",
              "      <td>-1.0</td>\n",
              "      <td>0</td>\n",
              "      <td>0</td>\n",
              "      <td>Computer Science and Engineering</td>\n",
              "      <td>0</td>\n",
              "      <td>-1.0</td>\n",
              "      <td>0.0</td>\n",
              "    </tr>\n",
              "  </tbody>\n",
              "</table>\n",
              "<p>119 rows × 9 columns</p>\n",
              "</div>\n",
              "      <button class=\"colab-df-convert\" onclick=\"convertToInteractive('df-a706339b-ed1c-456e-8fec-643ef94f99e3')\"\n",
              "              title=\"Convert this dataframe to an interactive table.\"\n",
              "              style=\"display:none;\">\n",
              "        \n",
              "  <svg xmlns=\"http://www.w3.org/2000/svg\" height=\"24px\"viewBox=\"0 0 24 24\"\n",
              "       width=\"24px\">\n",
              "    <path d=\"M0 0h24v24H0V0z\" fill=\"none\"/>\n",
              "    <path d=\"M18.56 5.44l.94 2.06.94-2.06 2.06-.94-2.06-.94-.94-2.06-.94 2.06-2.06.94zm-11 1L8.5 8.5l.94-2.06 2.06-.94-2.06-.94L8.5 2.5l-.94 2.06-2.06.94zm10 10l.94 2.06.94-2.06 2.06-.94-2.06-.94-.94-2.06-.94 2.06-2.06.94z\"/><path d=\"M17.41 7.96l-1.37-1.37c-.4-.4-.92-.59-1.43-.59-.52 0-1.04.2-1.43.59L10.3 9.45l-7.72 7.72c-.78.78-.78 2.05 0 2.83L4 21.41c.39.39.9.59 1.41.59.51 0 1.02-.2 1.41-.59l7.78-7.78 2.81-2.81c.8-.78.8-2.07 0-2.86zM5.41 20L4 18.59l7.72-7.72 1.47 1.35L5.41 20z\"/>\n",
              "  </svg>\n",
              "      </button>\n",
              "      \n",
              "  <style>\n",
              "    .colab-df-container {\n",
              "      display:flex;\n",
              "      flex-wrap:wrap;\n",
              "      gap: 12px;\n",
              "    }\n",
              "\n",
              "    .colab-df-convert {\n",
              "      background-color: #E8F0FE;\n",
              "      border: none;\n",
              "      border-radius: 50%;\n",
              "      cursor: pointer;\n",
              "      display: none;\n",
              "      fill: #1967D2;\n",
              "      height: 32px;\n",
              "      padding: 0 0 0 0;\n",
              "      width: 32px;\n",
              "    }\n",
              "\n",
              "    .colab-df-convert:hover {\n",
              "      background-color: #E2EBFA;\n",
              "      box-shadow: 0px 1px 2px rgba(60, 64, 67, 0.3), 0px 1px 3px 1px rgba(60, 64, 67, 0.15);\n",
              "      fill: #174EA6;\n",
              "    }\n",
              "\n",
              "    [theme=dark] .colab-df-convert {\n",
              "      background-color: #3B4455;\n",
              "      fill: #D2E3FC;\n",
              "    }\n",
              "\n",
              "    [theme=dark] .colab-df-convert:hover {\n",
              "      background-color: #434B5C;\n",
              "      box-shadow: 0px 1px 3px 1px rgba(0, 0, 0, 0.15);\n",
              "      filter: drop-shadow(0px 1px 2px rgba(0, 0, 0, 0.3));\n",
              "      fill: #FFFFFF;\n",
              "    }\n",
              "  </style>\n",
              "\n",
              "      <script>\n",
              "        const buttonEl =\n",
              "          document.querySelector('#df-a706339b-ed1c-456e-8fec-643ef94f99e3 button.colab-df-convert');\n",
              "        buttonEl.style.display =\n",
              "          google.colab.kernel.accessAllowed ? 'block' : 'none';\n",
              "\n",
              "        async function convertToInteractive(key) {\n",
              "          const element = document.querySelector('#df-a706339b-ed1c-456e-8fec-643ef94f99e3');\n",
              "          const dataTable =\n",
              "            await google.colab.kernel.invokeFunction('convertToInteractive',\n",
              "                                                     [key], {});\n",
              "          if (!dataTable) return;\n",
              "\n",
              "          const docLinkHtml = 'Like what you see? Visit the ' +\n",
              "            '<a target=\"_blank\" href=https://colab.research.google.com/notebooks/data_table.ipynb>data table notebook</a>'\n",
              "            + ' to learn more about interactive tables.';\n",
              "          element.innerHTML = '';\n",
              "          dataTable['output_type'] = 'display_data';\n",
              "          await google.colab.output.renderOutput(dataTable, element);\n",
              "          const docLink = document.createElement('div');\n",
              "          docLink.innerHTML = docLinkHtml;\n",
              "          element.appendChild(docLink);\n",
              "        }\n",
              "      </script>\n",
              "    </div>\n",
              "  </div>\n",
              "  "
            ]
          },
          "metadata": {},
          "execution_count": 85
        }
      ]
    },
    {
      "cell_type": "code",
      "source": [
        "##As the entire data cannot be dispalyed let us check the info of the new cvs fle created\n",
        "res.info()"
      ],
      "metadata": {
        "colab": {
          "base_uri": "https://localhost:8080/"
        },
        "id": "zEwUKl2O5yg-",
        "outputId": "91b1bd9b-14f0-4d15-8349-3d9e7ddaf42d"
      },
      "execution_count": 86,
      "outputs": [
        {
          "output_type": "stream",
          "name": "stdout",
          "text": [
            "<class 'pandas.core.frame.DataFrame'>\n",
            "RangeIndex: 119 entries, 0 to 118\n",
            "Data columns (total 9 columns):\n",
            " #   Column                  Non-Null Count  Dtype  \n",
            "---  ------                  --------------  -----  \n",
            " 0   Name                    119 non-null    object \n",
            " 1   python                  119 non-null    float64\n",
            " 2   mysql                   119 non-null    float64\n",
            " 3   Previous Geekions       119 non-null    int64  \n",
            " 4   CodeKata Score          119 non-null    int64  \n",
            " 5   Department              119 non-null    object \n",
            " 6   Rising                  119 non-null    int64  \n",
            " 7   python_en               35 non-null     float64\n",
            " 8   computational_thinking  35 non-null     float64\n",
            "dtypes: float64(4), int64(3), object(2)\n",
            "memory usage: 8.5+ KB\n"
          ]
        }
      ]
    },
    {
      "cell_type": "markdown",
      "metadata": {
        "id": "L8Gu4Mpn1y-4"
      },
      "source": [
        "###### Take each csv file , split that csv file into multiple categories (example csv files are added in the repo) \n"
      ]
    },
    {
      "cell_type": "markdown",
      "metadata": {
        "id": "Z65RhNw21y-5"
      },
      "source": [
        "###### consider if the codekata score exceeds 15000 points(present week) then make a csv on those observations as Exceeded expectations.csv\n"
      ]
    },
    {
      "cell_type": "markdown",
      "metadata": {
        "id": "ifE6dH8H1y-5"
      },
      "source": [
        "###### if  10000<codekata score<15000   (Reached_expectations.csv)\n",
        "\n"
      ]
    },
    {
      "cell_type": "markdown",
      "metadata": {
        "id": "87Kwsed31y-7"
      },
      "source": [
        "###### if  7000<codekata score<10000   (Needs_Improvement.csv)\n"
      ]
    },
    {
      "cell_type": "markdown",
      "metadata": {
        "id": "xyTkFy4_1y-9"
      },
      "source": [
        "###### if  codekate score < 7000        (Unsatisfactory.csv)"
      ]
    },
    {
      "cell_type": "code",
      "source": [
        "#if the codekata score exceeds 15000 points\n",
        "\n",
        "expectations = res[res['CodeKata Score'] >= 15000]\n",
        "expectations.to_csv('Exceeded_expectations.csv', index=False)\n",
        "new = pd.read_csv('Exceeded_expectations.csv')\n",
        "print(new)\n",
        "new.info()"
      ],
      "metadata": {
        "id": "J58p-ioOsuj0",
        "colab": {
          "base_uri": "https://localhost:8080/"
        },
        "outputId": "277de17c-1864-4e9c-f937-493811e6e417"
      },
      "execution_count": 87,
      "outputs": [
        {
          "output_type": "stream",
          "name": "stdout",
          "text": [
            "            Name  python  mysql  Previous Geekions  CodeKata Score  \\\n",
            "0      A.Dharani    82.0   20.0              24500           24500   \n",
            "1    V.JEEVITHA     82.0   20.0              21740           21740   \n",
            "2    HEMAVATHI.R   100.0  100.0              19680           19680   \n",
            "3  ASHOK KUMAR K   100.0   31.0              19400           19400   \n",
            "\n",
            "                               Department  Rising  python_en  \\\n",
            "0        Computer Science and Engineering       0        NaN   \n",
            "1        Computer Science and Engineering       0        NaN   \n",
            "2        Computer Science and Engineering       0        NaN   \n",
            "3  Electronics and Electrical Engineering       0        0.0   \n",
            "\n",
            "   computational_thinking  \n",
            "0                     NaN  \n",
            "1                     NaN  \n",
            "2                     NaN  \n",
            "3                     9.0  \n",
            "<class 'pandas.core.frame.DataFrame'>\n",
            "RangeIndex: 4 entries, 0 to 3\n",
            "Data columns (total 9 columns):\n",
            " #   Column                  Non-Null Count  Dtype  \n",
            "---  ------                  --------------  -----  \n",
            " 0   Name                    4 non-null      object \n",
            " 1   python                  4 non-null      float64\n",
            " 2   mysql                   4 non-null      float64\n",
            " 3   Previous Geekions       4 non-null      int64  \n",
            " 4   CodeKata Score          4 non-null      int64  \n",
            " 5   Department              4 non-null      object \n",
            " 6   Rising                  4 non-null      int64  \n",
            " 7   python_en               1 non-null      float64\n",
            " 8   computational_thinking  1 non-null      float64\n",
            "dtypes: float64(4), int64(3), object(2)\n",
            "memory usage: 416.0+ bytes\n"
          ]
        }
      ]
    },
    {
      "cell_type": "code",
      "source": [
        "#if 10000<codekata score<15000\n",
        "#  below expression return downs data above 10000 which also include data above 15000 as well\n",
        "expectation = res[res['CodeKata Score'] >= 10000]\n",
        "expectation.to_csv('Reached_expectation.csv', index=False)\n",
        "\n",
        "new1 = pd.read_csv('Reached_expectation.csv')\n",
        "# by using drop method we can delete data of codekata score above 15000 which will satify given condition\n",
        "result=new1.drop(new1[new1['CodeKata Score'] >= 15000].index, inplace = True)\n",
        "\n",
        "print(new1)\n",
        "new1.info()"
      ],
      "metadata": {
        "colab": {
          "base_uri": "https://localhost:8080/"
        },
        "id": "bvneLtEKRQXy",
        "outputId": "0215179b-67bb-4a0a-96dc-27830348ce70"
      },
      "execution_count": 88,
      "outputs": [
        {
          "output_type": "stream",
          "name": "stdout",
          "text": [
            "                Name  python  mysql  Previous Geekions  CodeKata Score  \\\n",
            "3        Mugunthan S   100.0   47.0              10610           10610   \n",
            "5            Chandru     0.0    0.0              14150           14490   \n",
            "6  Ganesh Ramkumar R    -1.0   24.0               8790           10790   \n",
            "7    Bodipudi Harini    -1.0   35.0              10040           10040   \n",
            "\n",
            "                                  Department  Rising  python_en  \\\n",
            "3           Computer Science and Engineering       0        NaN   \n",
            "5           Computer Science and Engineering     340       20.0   \n",
            "6           Computer Science and Engineering    2000       55.0   \n",
            "7  Electronics and Communication Engineering       0        0.0   \n",
            "\n",
            "   computational_thinking  \n",
            "3                     NaN  \n",
            "5                     0.0  \n",
            "6                     6.0  \n",
            "7                    -1.0  \n",
            "<class 'pandas.core.frame.DataFrame'>\n",
            "Int64Index: 4 entries, 3 to 7\n",
            "Data columns (total 9 columns):\n",
            " #   Column                  Non-Null Count  Dtype  \n",
            "---  ------                  --------------  -----  \n",
            " 0   Name                    4 non-null      object \n",
            " 1   python                  4 non-null      float64\n",
            " 2   mysql                   4 non-null      float64\n",
            " 3   Previous Geekions       4 non-null      int64  \n",
            " 4   CodeKata Score          4 non-null      int64  \n",
            " 5   Department              4 non-null      object \n",
            " 6   Rising                  4 non-null      int64  \n",
            " 7   python_en               3 non-null      float64\n",
            " 8   computational_thinking  3 non-null      float64\n",
            "dtypes: float64(4), int64(3), object(2)\n",
            "memory usage: 320.0+ bytes\n"
          ]
        }
      ]
    },
    {
      "cell_type": "code",
      "source": [
        "#if 7000<codekata score<10000 \n",
        "expect = res[res['CodeKata Score'] >= 7000]\n",
        "expect.to_csv('Needs_Improvement.csv', index=False)\n",
        "\n",
        "new2 = pd.read_csv('Needs_Improvement.csv')\n",
        "# by using drop method we can delete data of codekata score above 10000 which will satify given condition\n",
        "result=new2.drop(new2[new2['CodeKata Score'] >= 10000].index, inplace = True)\n",
        "\n",
        "print(new2)\n",
        "new2.info()"
      ],
      "metadata": {
        "colab": {
          "base_uri": "https://localhost:8080/"
        },
        "id": "RQvko9VO9iW3",
        "outputId": "bf6fddae-41c4-419e-ee24-453c8faf77a5"
      },
      "execution_count": 89,
      "outputs": [
        {
          "output_type": "stream",
          "name": "stdout",
          "text": [
            "                      Name  python  mysql  Previous Geekions  CodeKata Score  \\\n",
            "4              Sathammai.S   100.0    8.0               8980            8980   \n",
            "5             NIVEESHWAR S   100.0    0.0               8200            8200   \n",
            "6            KALAIARASAN K    85.0   47.0               7750            7880   \n",
            "7     MOHAMED ZUBAIR AHMED    82.0    4.0               7020            7020   \n",
            "12               VIINU V P    -1.0   24.0               9150            9150   \n",
            "13              Poojitha Y     0.0   35.0               7210            8970   \n",
            "14  Gowtham Chandrasekaran    -1.0    0.0               7250            8950   \n",
            "15               Gowtham R    -1.0    4.0               8650            8650   \n",
            "16                shifak N    58.0    0.0               5180            8320   \n",
            "17                 Balaji     -1.0   20.0               6170            8160   \n",
            "18                Rushitha    -1.0   62.0               7470            8090   \n",
            "19    Balaraman Muthupandi    -1.0    0.0               7670            8050   \n",
            "20                JPradhap   100.0    0.0               7340            8030   \n",
            "21           SRIRAMKUMAR B    -1.0    0.0               6400            7940   \n",
            "22               Praneetha    -1.0  100.0               7170            7730   \n",
            "23             Rahul Raj K    -1.0    0.0               6280            7640   \n",
            "24                 Guhan S    -1.0   35.0               7310            7630   \n",
            "25            Suryarajan S    -1.0   31.0               6710            7550   \n",
            "\n",
            "                                   Department  Rising  python_en  \\\n",
            "4            Computer Science and Engineering       0        NaN   \n",
            "5            Computer Science and Engineering       0        NaN   \n",
            "6   Electronics and Communication Engineering     130        NaN   \n",
            "7            Computer Science and Engineering       0        NaN   \n",
            "12     Electronics and Electrical Engineering       0      100.0   \n",
            "13           Computer Science and Engineering    1760       78.0   \n",
            "14           Computer Science and Engineering    1700        0.0   \n",
            "15  Electronics and Communication Engineering       0       60.0   \n",
            "16     Electronics and Electrical Engineering    3140        0.0   \n",
            "17     Electronics and Electrical Engineering    1990      100.0   \n",
            "18           Computer Science and Engineering     620       15.0   \n",
            "19           Computer Science and Engineering     380        9.0   \n",
            "20     Electronics and Electrical Engineering     690        0.0   \n",
            "21           Computer Science and Engineering    1540        0.0   \n",
            "22  Electronics and Communication Engineering     560       23.0   \n",
            "23           Computer Science and Engineering    1360        0.0   \n",
            "24  Electronics and Communication Engineering     320       72.0   \n",
            "25           Computer Science and Engineering     840       63.0   \n",
            "\n",
            "    computational_thinking  \n",
            "4                      NaN  \n",
            "5                      NaN  \n",
            "6                      NaN  \n",
            "7                      NaN  \n",
            "12                    -1.0  \n",
            "13                     0.0  \n",
            "14                     3.0  \n",
            "15                     6.0  \n",
            "16                     0.0  \n",
            "17                     0.0  \n",
            "18                     9.0  \n",
            "19                     0.0  \n",
            "20                     0.0  \n",
            "21                     0.0  \n",
            "22                    -1.0  \n",
            "23                     0.0  \n",
            "24                    39.0  \n",
            "25                     0.0  \n",
            "<class 'pandas.core.frame.DataFrame'>\n",
            "Int64Index: 18 entries, 4 to 25\n",
            "Data columns (total 9 columns):\n",
            " #   Column                  Non-Null Count  Dtype  \n",
            "---  ------                  --------------  -----  \n",
            " 0   Name                    18 non-null     object \n",
            " 1   python                  18 non-null     float64\n",
            " 2   mysql                   18 non-null     float64\n",
            " 3   Previous Geekions       18 non-null     int64  \n",
            " 4   CodeKata Score          18 non-null     int64  \n",
            " 5   Department              18 non-null     object \n",
            " 6   Rising                  18 non-null     int64  \n",
            " 7   python_en               14 non-null     float64\n",
            " 8   computational_thinking  14 non-null     float64\n",
            "dtypes: float64(4), int64(3), object(2)\n",
            "memory usage: 1.4+ KB\n"
          ]
        }
      ]
    },
    {
      "cell_type": "code",
      "source": [
        "exp = res[res['CodeKata Score'] <= 7000]\n",
        "exp.to_csv('Unsatisfactory.csv', index=False)\n",
        "new3 = pd.read_csv('Unsatisfactory.csv')\n",
        "print(new3)\n",
        "new3.info()"
      ],
      "metadata": {
        "colab": {
          "base_uri": "https://localhost:8080/"
        },
        "id": "CcobSKuY-ajB",
        "outputId": "0dbea442-dd66-4349-eb95-619c1f35a36a"
      },
      "execution_count": 90,
      "outputs": [
        {
          "output_type": "stream",
          "name": "stdout",
          "text": [
            "               Name  python  mysql  Previous Geekions  CodeKata Score  \\\n",
            "0        J.SUGANTHI    27.0  50.00               5860            5860   \n",
            "1      thamizhpaana    29.0   0.00               5500            5500   \n",
            "2   Iyappan Samiraj    50.0  24.00               5400            5400   \n",
            "3      Ponniyamma.R   100.0  11.25               5380            5380   \n",
            "4         SABAPATHI   100.0   0.00               5280            5280   \n",
            "..              ...     ...    ...                ...             ...   \n",
            "88    praveen raj j    24.0   0.00               2380            2380   \n",
            "89       AMARNATH D    -1.0  12.00               1890            1890   \n",
            "90             bala    32.0   0.00               1720            1720   \n",
            "91             XY Z    -1.0  -1.00                  0               0   \n",
            "92        Hariharan    -1.0  -1.00                  0               0   \n",
            "\n",
            "                                   Department  Rising  python_en  \\\n",
            "0   Electronics and Communication Engineering       0        NaN   \n",
            "1            Computer Science and Engineering       0        NaN   \n",
            "2   Electronics and Communication Engineering       0        NaN   \n",
            "3            Computer Science and Engineering       0        NaN   \n",
            "4            Computer Science and Engineering       0        NaN   \n",
            "..                                        ...     ...        ...   \n",
            "88           Computer Science and Engineering       0       -1.0   \n",
            "89  Electronics and Communication Engineering       0       52.0   \n",
            "90  Electronics and Communication Engineering       0       49.0   \n",
            "91           Computer Science and Engineering       0       20.0   \n",
            "92           Computer Science and Engineering       0       -1.0   \n",
            "\n",
            "    computational_thinking  \n",
            "0                      NaN  \n",
            "1                      NaN  \n",
            "2                      NaN  \n",
            "3                      NaN  \n",
            "4                      NaN  \n",
            "..                     ...  \n",
            "88                     0.0  \n",
            "89                    -1.0  \n",
            "90                    -1.0  \n",
            "91                    -1.0  \n",
            "92                     0.0  \n",
            "\n",
            "[93 rows x 9 columns]\n",
            "<class 'pandas.core.frame.DataFrame'>\n",
            "RangeIndex: 93 entries, 0 to 92\n",
            "Data columns (total 9 columns):\n",
            " #   Column                  Non-Null Count  Dtype  \n",
            "---  ------                  --------------  -----  \n",
            " 0   Name                    93 non-null     object \n",
            " 1   python                  93 non-null     float64\n",
            " 2   mysql                   93 non-null     float64\n",
            " 3   Previous Geekions       93 non-null     int64  \n",
            " 4   CodeKata Score          93 non-null     int64  \n",
            " 5   Department              93 non-null     object \n",
            " 6   Rising                  93 non-null     int64  \n",
            " 7   python_en               17 non-null     float64\n",
            " 8   computational_thinking  17 non-null     float64\n",
            "dtypes: float64(4), int64(3), object(2)\n",
            "memory usage: 6.7+ KB\n"
          ]
        }
      ]
    },
    {
      "cell_type": "markdown",
      "metadata": {
        "id": "RrfdqerH1y--"
      },
      "source": [
        "###### Average of previous week geekions vs this week geekions (i.e Previous Geekions vs CodeKata Score)"
      ]
    },
    {
      "cell_type": "code",
      "execution_count": 95,
      "metadata": {
        "id": "fYFKpDJ11y-_",
        "colab": {
          "base_uri": "https://localhost:8080/"
        },
        "outputId": "f924ca58-1b18-43a2-8ebc-c9d878a0969d"
      },
      "outputs": [
        {
          "output_type": "stream",
          "name": "stdout",
          "text": [
            "avaearge of Previous Geekions is: 3842.3529411764707\n",
            "avaearge of CodeKata Score is: 4051.764705882353\n"
          ]
        }
      ],
      "source": [
        "#res.info()\n",
        "avg_g = res['Previous Geekions'].mean()\n",
        "avg_c = res['CodeKata Score'].mean()\n",
        "print(\"avaearge of Previous Geekions is:\" , avg_g)\n",
        "print(\"avaearge of CodeKata Score is:\" ,avg_c)"
      ]
    },
    {
      "cell_type": "markdown",
      "metadata": {
        "id": "ARkAdB7w1y-_"
      },
      "source": [
        "###### No of students participated "
      ]
    },
    {
      "cell_type": "code",
      "source": [
        "student=res['Name'].count()\n",
        "print(\"Total sudents participated are :\",student)\n"
      ],
      "metadata": {
        "colab": {
          "base_uri": "https://localhost:8080/"
        },
        "id": "l_4_D5dEiRGR",
        "outputId": "99ab0660-3ae1-4358-8402-930a004c77cc"
      },
      "execution_count": 94,
      "outputs": [
        {
          "output_type": "stream",
          "name": "stdout",
          "text": [
            "Total sudents participated are : 119\n"
          ]
        }
      ]
    },
    {
      "cell_type": "markdown",
      "metadata": {
        "id": "xAXKxEfL1y_A"
      },
      "source": [
        "###### #Average completion of python course or my_sql or python english or computational thinking"
      ]
    },
    {
      "cell_type": "code",
      "source": [
        "df2 = res[[\"python\",\"mysql\",\"python\",\"python_en\",\"mysql\"]].mean()\n",
        "print(\"avearge completion of courses\")\n",
        "print(df2)"
      ],
      "metadata": {
        "colab": {
          "base_uri": "https://localhost:8080/"
        },
        "id": "CORI1c8toFto",
        "outputId": "a125bbfc-cf16-4a1b-88ed-77faa7319fdf"
      },
      "execution_count": 96,
      "outputs": [
        {
          "output_type": "stream",
          "name": "stdout",
          "text": [
            "avearge completion of courses\n",
            "python       54.352941\n",
            "mysql        23.500000\n",
            "python       54.352941\n",
            "python_en    29.657143\n",
            "mysql        23.500000\n",
            "dtype: float64\n"
          ]
        }
      ]
    },
    {
      "cell_type": "markdown",
      "metadata": {
        "id": "yiLYi7nK1y_B"
      },
      "source": [
        "###### rising star of the week (top 3 candidate who performed well in that particular week)"
      ]
    },
    {
      "cell_type": "code",
      "source": [
        "k=res.nlargest(3,['Rising'])\n",
        "print(k)"
      ],
      "metadata": {
        "colab": {
          "base_uri": "https://localhost:8080/"
        },
        "id": "YlYbXEBqxXom",
        "outputId": "9252c3fb-789e-4516-f2cc-b5930ceb5e39"
      },
      "execution_count": 31,
      "outputs": [
        {
          "output_type": "stream",
          "name": "stdout",
          "text": [
            "                  Name  python  mysql  Previous Geekions  CodeKata Score  \\\n",
            "92            shifak N    58.0    0.0               5180            8320   \n",
            "86   Ganesh Ramkumar R    -1.0   24.0               8790           10790   \n",
            "102     Narasimhan Y L    -1.0    0.0               4800            6800   \n",
            "\n",
            "                                 Department  Rising  python_en  \\\n",
            "92   Electronics and Electrical Engineering    3140        0.0   \n",
            "86         Computer Science and Engineering    2000       55.0   \n",
            "102        Computer Science and Engineering    2000       -1.0   \n",
            "\n",
            "     computational_thinking  \n",
            "92                      0.0  \n",
            "86                      6.0  \n",
            "102                     0.0  \n"
          ]
        }
      ]
    },
    {
      "cell_type": "markdown",
      "metadata": {
        "id": "T6WwJ-V91y_C"
      },
      "source": [
        "###### Shining stars of the week (top 3 candidates who has highest geekions)"
      ]
    },
    {
      "cell_type": "code",
      "execution_count": 32,
      "metadata": {
        "id": "1C-OOPUk1y_C",
        "colab": {
          "base_uri": "https://localhost:8080/"
        },
        "outputId": "ffa2a755-8b8e-4459-ecbb-4d790ed7d243"
      },
      "outputs": [
        {
          "output_type": "stream",
          "name": "stdout",
          "text": [
            "          Name  python  mysql  Previous Geekions  CodeKata Score  \\\n",
            "0    A.Dharani    82.0   20.0              24500           24500   \n",
            "1  V.JEEVITHA     82.0   20.0              21740           21740   \n",
            "2  HEMAVATHI.R   100.0  100.0              19680           19680   \n",
            "\n",
            "                         Department  Rising  python_en  computational_thinking  \n",
            "0  Computer Science and Engineering       0        NaN                     NaN  \n",
            "1  Computer Science and Engineering       0        NaN                     NaN  \n",
            "2  Computer Science and Engineering       0        NaN                     NaN  \n"
          ]
        }
      ],
      "source": [
        "\n",
        "large=res.nlargest(3, ['Previous Geekions'])\n",
        "print(large)"
      ]
    },
    {
      "cell_type": "markdown",
      "metadata": {
        "id": "4SQaJxqy1y_C"
      },
      "source": [
        "###### Department wise codekata performence (pie chart)"
      ]
    },
    {
      "cell_type": "code",
      "execution_count": 33,
      "metadata": {
        "id": "sY6a7BiN1y_D",
        "colab": {
          "base_uri": "https://localhost:8080/",
          "height": 265
        },
        "outputId": "1f528761-5571-4fd9-fbc1-42ad5b0c3346"
      },
      "outputs": [
        {
          "output_type": "execute_result",
          "data": {
            "text/plain": [
              "<matplotlib.axes._subplots.AxesSubplot at 0x7f08e06ac1f0>"
            ]
          },
          "metadata": {},
          "execution_count": 33
        },
        {
          "output_type": "display_data",
          "data": {
            "text/plain": [
              "<Figure size 432x288 with 1 Axes>"
            ],
            "image/png": "[encoded data removed]"
          },
          "metadata": {}
        }
      ],
      "source": [
        "res.groupby(['Department']).sum().plot(kind='pie', y='CodeKata Score')"
      ]
    },
    {
      "cell_type": "markdown",
      "metadata": {
        "id": "-9uekp1h1y_D"
      },
      "source": [
        "###### Department wise toppers (horizantal bar graph or any visual representations of your choice)"
      ]
    },
    {
      "cell_type": "code",
      "execution_count": null,
      "metadata": {
        "id": "4zFBi1zE1y_E"
      },
      "outputs": [],
      "source": [
        "#creating department wise csv files\n",
        "cse = res[res['Department'] == 'Computer Science and Engineering']\n",
        "cse.to_csv('cse.csv', index=False)\n",
        "depc = pd.read_csv('cse.csv')\n",
        "print(depc)\n"
      ]
    },
    {
      "cell_type": "code",
      "source": [
        "ax=cse.head(5)"
      ],
      "metadata": {
        "id": "ER6SoWgHJYZ9"
      },
      "execution_count": 100,
      "outputs": []
    },
    {
      "cell_type": "code",
      "source": [
        "ax.plot.barh(x='Name', y='CodeKata Score',\n",
        "             title='cse toppers', color='green')"
      ],
      "metadata": {
        "colab": {
          "base_uri": "https://localhost:8080/",
          "height": 298
        },
        "id": "9MML6NX6ITtm",
        "outputId": "ef9e0ca2-8a61-43fa-8953-e79aff2ee32a"
      },
      "execution_count": 101,
      "outputs": [
        {
          "output_type": "execute_result",
          "data": {
            "text/plain": [
              "<matplotlib.axes._subplots.AxesSubplot at 0x7f08ddcba1c0>"
            ]
          },
          "metadata": {},
          "execution_count": 101
        },
        {
          "output_type": "display_data",
          "data": {
            "text/plain": [
              "<Figure size 432x288 with 1 Axes>"
            ],
            "image/png": "[encoded data removed]"
          },
          "metadata": {
            "needs_background": "light"
          }
        }
      ]
    },
    {
      "cell_type": "code",
      "source": [
        "#creating department wise csv files\n",
        "ece = res[res['Department'] == 'Electronics and Communication Engineering']\n",
        "ece.to_csv('ece.csv', index=False)\n",
        "depe = pd.read_csv('ece.csv')\n",
        "print(depe)\n"
      ],
      "metadata": {
        "id": "Ov0r2ERGHghc"
      },
      "execution_count": null,
      "outputs": []
    },
    {
      "cell_type": "code",
      "source": [
        "bx = depe.head(5)"
      ],
      "metadata": {
        "id": "K2_mK9k7KGUi"
      },
      "execution_count": 103,
      "outputs": []
    },
    {
      "cell_type": "code",
      "source": [
        "bx.plot('Name','Previous Geekions')"
      ],
      "metadata": {
        "colab": {
          "base_uri": "https://localhost:8080/",
          "height": 296
        },
        "id": "9iLGs0IgLMLp",
        "outputId": "d5025f7c-2cf5-4438-de57-680851249d9a"
      },
      "execution_count": 65,
      "outputs": [
        {
          "output_type": "execute_result",
          "data": {
            "text/plain": [
              "<matplotlib.axes._subplots.AxesSubplot at 0x7f08de472c40>"
            ]
          },
          "metadata": {},
          "execution_count": 65
        },
        {
          "output_type": "display_data",
          "data": {
            "text/plain": [
              "<Figure size 432x288 with 1 Axes>"
            ],
            "image/png": "[encoded data removed]"
          },
          "metadata": {
            "needs_background": "light"
          }
        }
      ]
    },
    {
      "cell_type": "code",
      "source": [
        "#creating department wise csv files\n",
        "eee = res[res['Department'] == 'Electronics and Electrical Engineering']\n",
        "eee.to_csv('eee.csv', index=False)\n",
        "deee = pd.read_csv('eee.csv')\n",
        "print(deee)\n",
        "deee.info()"
      ],
      "metadata": {
        "id": "3ngoBMYeIAp2"
      },
      "execution_count": null,
      "outputs": []
    },
    {
      "cell_type": "code",
      "source": [
        "deee.head(5)"
      ],
      "metadata": {
        "id": "hX52jlq7IBm7"
      },
      "execution_count": null,
      "outputs": []
    },
    {
      "cell_type": "code",
      "source": [
        "deee.plot.area(stacked=False)"
      ],
      "metadata": {
        "colab": {
          "base_uri": "https://localhost:8080/",
          "height": 283
        },
        "id": "GxJpr9tSLp9S",
        "outputId": "1c000038-9af1-4b66-b2b4-2c8a87427a15"
      },
      "execution_count": 77,
      "outputs": [
        {
          "output_type": "execute_result",
          "data": {
            "text/plain": [
              "<matplotlib.axes._subplots.AxesSubplot at 0x7f08dde85c40>"
            ]
          },
          "metadata": {},
          "execution_count": 77
        },
        {
          "output_type": "display_data",
          "data": {
            "text/plain": [
              "<Figure size 432x288 with 1 Axes>"
            ],
            "image/png": "[encoded data removed]"
          },
          "metadata": {
            "needs_background": "light"
          }
        }
      ]
    }
  ],
  "metadata": {
    "kernelspec": {
      "display_name": "Python 3",
      "language": "python",
      "name": "python3"
    },
    "language_info": {
      "codemirror_mode": {
        "name": "ipython",
        "version": 3
      },
      "file_extension": ".py",
      "mimetype": "text/x-python",
      "name": "python",
      "nbconvert_exporter": "python",
      "pygments_lexer": "ipython3",
      "version": "3.8.3"
    },
    "colab": {
      "provenance": [],
      "include_colab_link": true
    }
  },
  "nbformat": 4,
  "nbformat_minor": 0
}