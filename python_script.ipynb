{
  "cells": [
    {
      "cell_type": "markdown",
      "metadata": {
        "id": "view-in-github",
        "colab_type": "text"
      },
      "source": [
        "<a href=\"https://colab.research.google.com/github/Praz98/TASK-4-pd.data-frame/blob/main/python_script.ipynb\" target=\"_parent\"><img src=\"https://colab.research.google.com/assets/colab-badge.svg\" alt=\"Open In Colab\"/></a>"
      ]
    },
    {
      "cell_type": "code",
      "source": [
        "\n",
        "def keep_repeat_users(df, visited=3):\n",
        "\t\"\"\"\n",
        "\tINPUT\n",
        "\tdf: full dataframe of user activity\n",
        "\tvisited = 3: minimum amount of times logged to be considered an adopted user\n",
        "\tOUTPUT\n",
        "\tnew_df: dataframe containing all users who have logged on at least the 'visited' time, grouped by user_id\n",
        "\t\"\"\"\n",
        "\timport pandas as pd\n",
        "\tfrom pandas import DataFrame\n",
        "\n",
        "\tnew_df = df.groupby('user_id').filter(lambda x: len(x) >= visited)\n",
        "\treturn new_df\n",
        "\n",
        "def active_users(period, days_logged, user):\n",
        "\t\"\"\"\n",
        "\tINPUT\n",
        "\tperiod: time period we want to look at, default 7\n",
        "\tdays_logged: is the number of days of the period we want the user to have logged in, default 3\n",
        "\tuser is the unique users\n",
        "\tOUPUT\n",
        "\tactive_user: returns whether or not the user had 3 consecutive logins within a 7 day period\n",
        "\t\"\"\"\n",
        "\timport pandas as pd\n",
        "\tfrom pandas import DataFrame, Series\n",
        "\n",
        "\tvisited = len(user.index) #get the number of times the user logged in\n",
        "\ti, count = 0, 1\n",
        "\tactive_user = False\n",
        "\n",
        "\twhile count < days_logged:\n",
        "\t\tif (i+2) < visited: #needs to be at least 3 entries left\t\n",
        "\t\t\tif (user['time_stamp2'].iloc[i + 1] - user['time_stamp2'].iloc[i]) <= pd.Timedelta(days=period) and (user['time_stamp2'].iloc[i + 1] - user['time_stamp2'].iloc[i]) > pd.Timedelta(days=1) :\n",
        "\t\t\t\tcount += 1 #logged in twice within a 7 day period\n",
        "\t\t\t\tnew_timeframe = (user['time_stamp2'].iloc[i + 1] - user['time_stamp2'].iloc[i])\n",
        "\t\t\t\tif (user['time_stamp2'].iloc[i + 2] - user['time_stamp2'].iloc[i + 1]) <= new_timeframe and (user['time_stamp2'].iloc[i + 2] - user['time_stamp2'].iloc[i + 1]) > pd.Timedelta(days=1):\n",
        "\t\t\t\t\tactive_user = True #they logged in three times within a 7 period window\n",
        "\t\t\t\t\tcount += 1\n",
        "\t\t\t\telse: \n",
        "\t\t\t\t\ti += 1\n",
        "\t\t\t\t\tcount = 1\n",
        "\t\t\telse:\n",
        "\t\t\t\ti += 1\n",
        "\t\t\t\tcount = 1\n",
        "\t\telse:\n",
        "\t\t\tcount = days_logged\n",
        "\treturn active_user\n",
        "\n",
        "def keep_active_users(df):\n",
        "\t\"\"\"\n",
        "\tOUTPUT\n",
        "\tunique_active_peeps: a dataframe of unique adopted users\n",
        "\t\"\"\"\n",
        "\timport pandas as pd\n",
        "\tfrom pandas import DataFrame, Series\n",
        "\n",
        "\tactive_peeps = df.filter(lambda x: active_users(period=7, days_logged=3, user=x) ==True)\n",
        "\n",
        "\tunique_active_peeps = DataFrame(Series.unique(active_peeps['user_id']))\n",
        "\tunique_active_peeps.columns = ['user_id']\n",
        "\n",
        "\treturn unique_active_peeps\n"
      ],
      "metadata": {
        "id": "9KUDGxlsupeI"
      },
      "execution_count": null,
      "outputs": []
    }
  ],
  "metadata": {
    "colab": {
      "provenance": [],
      "include_colab_link": true
    },
    "kernelspec": {
      "display_name": "Python 3",
      "name": "python3"
    }
  },
  "nbformat": 4,
  "nbformat_minor": 0
}